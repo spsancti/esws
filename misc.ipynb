{
 "cells": [
  {
   "cell_type": "code",
   "execution_count": null,
   "metadata": {},
   "outputs": [],
   "source": [
    "import pickle\n",
    "import numpy as np\n",
    "import torch\n",
    "import random\n",
    "from torch.autograd import Variable"
   ]
  },
  {
   "cell_type": "code",
   "execution_count": null,
   "metadata": {},
   "outputs": [],
   "source": [
    "def load_object(filename):\n",
    "    with open(filename, 'rb') as file:\n",
    "        return pickle.load(file)\n",
    "\n",
    "def save_object(obj, filename):\n",
    "    with open(filename, 'wb') as file:\n",
    "        pickle.dump(obj, file, pickle.HIGHEST_PROTOCOL)"
   ]
  },
  {
   "cell_type": "code",
   "execution_count": null,
   "metadata": {},
   "outputs": [],
   "source": [
    "def single_to_torch(obs, cuda=False):\n",
    "    obs = np.asarray(obs, dtype=np.float32)\n",
    "    if not cuda:\n",
    "        return Variable(torch.from_numpy(obs).unsqueeze_(0))\n",
    "    else:\n",
    "        return Variable(torch.from_numpy(obs).unsqueeze_(0).cuda())\n",
    "\n",
    "def single_from_torch(actions, cuda=False):\n",
    "    if not cuda:\n",
    "        return torch.squeeze(actions, 0).data.numpy()\n",
    "    else:\n",
    "        return torch.squeeze(actions, 0).data.cpu().numpy()\n",
    "\n",
    "\n",
    "def batch_to_torch(obs, cuda=False):\n",
    "    obs = np.asarray(obs, dtype=np.float32)\n",
    "    if not cuda:\n",
    "        return Variable(torch.from_numpy(obs))\n",
    "    else:\n",
    "        return Variable(torch.from_numpy(obs).cuda())\n",
    "\n",
    "\n",
    "def batch_from_torch(actions, cuda=False):\n",
    "    if not cuda:\n",
    "        return actions.data.numpy()\n",
    "    else:\n",
    "        return actions.data.cpu().numpy()"
   ]
  },
  {
   "cell_type": "code",
   "execution_count": null,
   "metadata": {},
   "outputs": [],
   "source": [
    "def init_random(seed):\n",
    "    random.seed(seed)    \n",
    "    np.random.seed(seed)\n",
    "    torch.manual_seed(seed)\n",
    "    if torch.cuda.is_available():\n",
    "        torch.cuda.manual_seed_all(seed)"
   ]
  },
  {
   "cell_type": "code",
   "execution_count": null,
   "metadata": {},
   "outputs": [],
   "source": [
    "def squared_loss(y_pred, y_train):\n",
    "    m = y_pred.shape[0]\n",
    "\n",
    "    data_loss = np.sum((y_train - y_pred) ** 2) / m\n",
    "\n",
    "    return data_loss"
   ]
  }
 ],
 "metadata": {
  "kernelspec": {
   "display_name": "Python 3",
   "language": "python",
   "name": "python3"
  },
  "language_info": {
   "codemirror_mode": {
    "name": "ipython",
    "version": 3
   },
   "file_extension": ".py",
   "mimetype": "text/x-python",
   "name": "python",
   "nbconvert_exporter": "python",
   "pygments_lexer": "ipython3",
   "version": "3.5.2"
  }
 },
 "nbformat": 4,
 "nbformat_minor": 2
}
