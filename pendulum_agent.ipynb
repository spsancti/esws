{
 "cells": [
  {
   "cell_type": "code",
   "execution_count": 1,
   "metadata": {},
   "outputs": [],
   "source": [
    "    import torch.nn as nn\n",
    "    import torch\n",
    "    import numpy as np\n",
    "    import gym\n",
    "\n",
    "    import ipynb.fs.full.misc as misc\n",
    "    import ipynb.fs.full.breeder as br\n",
    "    import ipynb.fs.full.mutation_functions as mf\n",
    "    import ipynb.fs.full.selection_functions as sf\n",
    "    import ipynb.fs.full.crossover_functions as cf\n",
    "    from ipynb.fs.full.agent_class import Agent\n",
    "    import ipynb.fs.full.net_class as nm"
   ]
  },
  {
   "cell_type": "code",
   "execution_count": 2,
   "metadata": {},
   "outputs": [],
   "source": [
    "class PendulumAgentNet(nm.NetModule):\n",
    "    def __init__(self):\n",
    "        super(PendulumAgentNet, self).__init__()\n",
    "\n",
    "        self.num_inputs = 3\n",
    "        self.num_outputs = 1\n",
    "\n",
    "        #  define net structure here\n",
    "        self.model = nn.Sequential(\n",
    "            nn.Linear(self.num_inputs, 32),\n",
    "            nn.Tanh(),\n",
    "            nn.Linear(32, 32),\n",
    "            nn.Tanh(),\n",
    "            nn.Linear(32, self.num_outputs),\n",
    "            nn.Tanh(),\n",
    "        )\n",
    "\n",
    "#         self.model = self.model.cuda()\n",
    "\n",
    "        self.parameters_count = self.count_parameters()\n",
    "\n",
    "    def forward(self, inputs):\n",
    "        ret = self.model(inputs)\n",
    "        return ret"
   ]
  },
  {
   "cell_type": "code",
   "execution_count": 3,
   "metadata": {},
   "outputs": [],
   "source": [
    "class PendulumAgent(Agent):\n",
    "    def __init__(self, dna=None):\n",
    "        super(PendulumAgent, self).__init__(dna, PendulumAgentNet())\n",
    "\n",
    "    def step(self, observation):\n",
    "        state = np.asarray(observation)\n",
    "\n",
    "        torch_state = misc.single_to_torch(state, cuda=self.net.is_cuda())\n",
    "        torch_action = self.net(torch_state)\n",
    "        action = misc.single_from_torch(torch_action, cuda=self.net.is_cuda())\n",
    "\n",
    "        self.add_experience(state, action)\n",
    "\n",
    "        return action\n",
    "    \n",
    "    def evaluate(self, environment, render=False, sleep=False, idx=0):\n",
    "        avg_fitness = 0.0\n",
    "        tries = 2\n",
    "        for _ in range(tries):\n",
    "            avg_fitness += super(PendulumAgent, self).evaluate(environment, render=render, sleep=sleep, idx=idx)\n",
    "        \n",
    "        return avg_fitness / tries\n",
    "\n",
    "    @staticmethod\n",
    "    def produce_offspring(dna):\n",
    "        return PendulumAgent(dna=dna)"
   ]
  },
  {
   "cell_type": "code",
   "execution_count": 4,
   "metadata": {},
   "outputs": [
    {
     "name": "stdout",
     "output_type": "stream",
     "text": [
      "\u001b[33mWARN: gym.spaces.Box autodetected dtype as <class 'numpy.float32'>. Please provide explicit dtype.\u001b[0m\n",
      "\u001b[33mWARN: gym.spaces.Box autodetected dtype as <class 'numpy.float32'>. Please provide explicit dtype.\u001b[0m\n",
      "Gen: 0 , Max fitness: -1.423424770763053 , Min fitness: -1687.5141603305967 , Age: 0 , Mean fitness: -1005.6459803713353\n"
     ]
    }
   ],
   "source": [
    "env = gym.make(\"Pendulum-v0\")\n",
    "\n",
    "population_size = 50\n",
    "population = [PendulumAgent()] * population_size\n",
    "\n",
    "breeder = br.Breeder(population,\n",
    "                     env,\n",
    "                     -5.,\n",
    "                     generations=200,\n",
    "                     elite_percent=0.1,\n",
    "                     mutation_rate=0.3,\n",
    "                     selection_pressure=0.2,\n",
    "                     selection_func=sf.tournament,\n",
    "                     crossover_func=cf.none,\n",
    "                     mutation_func=mf.sm_g_sum_r,\n",
    "                     render=False)\n",
    "\n",
    "\n",
    "breeder.load_checkpoint()\n",
    "agent = breeder.evolve()\n",
    "\n",
    "for _ in range(10):\n",
    "    agent.evaluate(env, render=True, sleep=True)"
   ]
  }
 ],
 "metadata": {
  "kernelspec": {
   "display_name": "Python 3",
   "language": "python",
   "name": "python3"
  },
  "language_info": {
   "codemirror_mode": {
    "name": "ipython",
    "version": 3
   },
   "file_extension": ".py",
   "mimetype": "text/x-python",
   "name": "python",
   "nbconvert_exporter": "python",
   "pygments_lexer": "ipython3",
   "version": "3.5.2"
  }
 },
 "nbformat": 4,
 "nbformat_minor": 2
}
