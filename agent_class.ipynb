{
 "cells": [
  {
   "cell_type": "markdown",
   "metadata": {},
   "source": []
  },
  {
   "cell_type": "code",
   "execution_count": null,
   "metadata": {},
   "outputs": [],
   "source": [
    "import time"
   ]
  },
  {
   "cell_type": "code",
   "execution_count": null,
   "metadata": {},
   "outputs": [],
   "source": [
    "class Agent(object):\n",
    "    def __init__(self, dna=None, net=None):\n",
    "\n",
    "        self.net = net\n",
    "        if dna is not None:\n",
    "            self.net.inject_parameters(dna)\n",
    "            self.dna = dna\n",
    "        else:\n",
    "            self.dna = self.net.extract_parameters()\n",
    "\n",
    "        self.fitness = -10000000.\n",
    "        self.size = len(self.dna)\n",
    "        self.age = 0\n",
    "\n",
    "        self.action_buffer = None\n",
    "        self.observation_buffer = None\n",
    "        "
   ]
  },
  {
   "cell_type": "code",
   "execution_count": 3,
   "metadata": {},
   "outputs": [],
   "source": [
    "class Agent(Agent):\n",
    "    def get_dna(self):\n",
    "        return self.dna\n",
    "\n",
    "    def set_dna(self, dna):\n",
    "        self.dna = dna\n",
    "        self.net.inject_parameters(self.dna)"
   ]
  },
  {
   "cell_type": "code",
   "execution_count": 4,
   "metadata": {},
   "outputs": [],
   "source": [
    "class Agent(Agent):\n",
    "    def add_experience(self, observation, action):\n",
    "        if self.observation_buffer is None:\n",
    "            self.observation_buffer = []\n",
    "\n",
    "        if self.action_buffer is None:\n",
    "            self.action_buffer = []\n",
    "\n",
    "        self.observation_buffer.append(observation)\n",
    "        self.action_buffer.append(action)\n",
    "\n",
    "        if len(self.observation_buffer) > 100:\n",
    "            self.observation_buffer.pop(0)\n",
    "        \n",
    "        if len(self.action_buffer) > 100:\n",
    "            self.action_buffer.pop(0)\n"
   ]
  },
  {
   "cell_type": "code",
   "execution_count": 5,
   "metadata": {},
   "outputs": [],
   "source": [
    "class Agent(Agent):\n",
    "    def evaluate(self, environment, render=False, sleep=False, idx=0):\n",
    "        done = False\n",
    "        beta = 1.0\n",
    "        fitness = 0.0\n",
    "        obs = environment.reset()\n",
    "        \n",
    "        n = 1\n",
    "        while not done:\n",
    "            action = self.step(obs)\n",
    "            obs, reward, done, info = environment.step(action)\n",
    "            fitness += (beta**n) * reward\n",
    "            \n",
    "            n += 1\n",
    "            if render:\n",
    "                environment.render()\n",
    "                if sleep:\n",
    "                    time.sleep(0.0125)\n",
    "\n",
    "        self.fitness = fitness        \n",
    "        return self.fitness\n",
    "    "
   ]
  },
  {
   "cell_type": "code",
   "execution_count": null,
   "metadata": {},
   "outputs": [],
   "source": [
    "class Agent(Agent):\n",
    "    def step(self, observation):\n",
    "        pass\n",
    "    \n",
    "    @staticmethod\n",
    "    def produce_offspring(dna):        \n",
    "        pass"
   ]
  },
  {
   "cell_type": "markdown",
   "metadata": {},
   "source": []
  },
  {
   "cell_type": "code",
   "execution_count": null,
   "metadata": {},
   "outputs": [],
   "source": []
  }
 ],
 "metadata": {
  "kernelspec": {
   "display_name": "Python 3",
   "language": "python",
   "name": "python3"
  },
  "language_info": {
   "codemirror_mode": {
    "name": "ipython",
    "version": 3
   },
   "file_extension": ".py",
   "mimetype": "text/x-python",
   "name": "python",
   "nbconvert_exporter": "python",
   "pygments_lexer": "ipython3",
   "version": "3.5.2"
  }
 },
 "nbformat": 4,
 "nbformat_minor": 2
}
