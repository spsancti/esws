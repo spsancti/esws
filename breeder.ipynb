{
 "cells": [
  {
   "cell_type": "markdown",
   "metadata": {},
   "source": []
  },
  {
   "cell_type": "code",
   "execution_count": null,
   "metadata": {},
   "outputs": [],
   "source": [
    "import copy\n",
    "import numpy as np\n",
    "import ipynb.fs.full.misc as m"
   ]
  },
  {
   "cell_type": "markdown",
   "metadata": {},
   "source": []
  },
  {
   "cell_type": "code",
   "execution_count": null,
   "metadata": {},
   "outputs": [],
   "source": [
    "class Breeder(object):\n",
    "    def __init__(self,\n",
    "                 population,\n",
    "                 environment,\n",
    "                 target_fitness,\n",
    "                 generations=100,\n",
    "                 elite_percent=0.1,\n",
    "                 mutation_rate=0.1,\n",
    "                 selection_pressure=0.1,\n",
    "                 selection_func=None,\n",
    "                 crossover_func=None,\n",
    "                 mutation_func=None,\n",
    "                 save_path=\"\",\n",
    "                 render=False):\n",
    "\n",
    "        self.copy_to_save = None\n",
    "        self.population = population\n",
    "        self.environment = environment\n",
    "        self.generations = generations\n",
    "        self.target_fitness = target_fitness\n",
    "        \n",
    "        self.selection_func = selection_func\n",
    "        self.crossover_func = crossover_func\n",
    "        self.mutation_func = mutation_func\n",
    "        self.mutation_rate = mutation_rate\n",
    "\n",
    "        self.elite_percent = elite_percent\n",
    "        self.selection_pressure = selection_pressure\n",
    "        self.max_fitness = -1000000000.0\n",
    "        self.do_render = render\n",
    "\n",
    "        if population is not None:\n",
    "            self.population_size = len(population)\n",
    "        else:\n",
    "            self.population_size = 0\n",
    "\n",
    "        if hasattr(environment, 'env'):\n",
    "            self.env_name = type(environment.env).__name__\n",
    "        else:\n",
    "            self.env_name = type(environment).__name__\n",
    "        self.save_path = save_path"
   ]
  },
  {
   "cell_type": "code",
   "execution_count": null,
   "metadata": {},
   "outputs": [],
   "source": [
    "class Breeder(Breeder):\n",
    "    def selection(self, selection_pressure):\n",
    "        return self.selection_func(self.population, selection_pressure)\n",
    "\n",
    "    def crossover(self, parent_a, parent_b):\n",
    "        assert parent_a.size == parent_b.size\n",
    "        return self.crossover_func(parent_a, parent_b)\n",
    "\n",
    "    def mutate(self, parent, mutation_rate):\n",
    "        rate = 0.0\n",
    "        if isinstance(mutation_rate, tuple):\n",
    "            rate = np.random.uniform(mutation_rate[0], mutation_rate[1])\n",
    "        else:\n",
    "            rate = mutation_rate\n",
    "        return self.mutation_func(parent, rate)"
   ]
  },
  {
   "cell_type": "code",
   "execution_count": null,
   "metadata": {},
   "outputs": [],
   "source": [
    "class Breeder(Breeder):\n",
    "    def update_fitness(self):\n",
    "        for i in range(self.population_size): \n",
    "            self.population[i].evaluate(self.environment, render=self.do_render, sleep=False)\n",
    "\n",
    "        self.population = sorted(self.population, key=lambda x: x.fitness, reverse=True)"
   ]
  },
  {
   "cell_type": "code",
   "execution_count": null,
   "metadata": {},
   "outputs": [],
   "source": [
    "class Breeder(Breeder):\n",
    "    def save_checkpoint(self):\n",
    "        m.save_object(self.copy_to_save, self.save_path + self.env_name + \"_checkpoint.pickle\")\n",
    "\n",
    "    def load_checkpoint(self):\n",
    "        self.population = m.load_object(self.save_path + self.env_name + \"_checkpoint.pickle\")\n",
    "        self.population_size = len(self.population)"
   ]
  },
  {
   "cell_type": "code",
   "execution_count": null,
   "metadata": {},
   "outputs": [],
   "source": [
    "class Breeder(Breeder):\n",
    "    def evolve(self):\n",
    "        offsprings = self.population\n",
    "\n",
    "        for g in range(0, self.generations):\n",
    "            for p in offsprings:  # store only the last experiences in replay\n",
    "                p.observation_buffer = None\n",
    "                p.action_buffer = None\n",
    "\n",
    "            self.copy_to_save = copy.deepcopy(offsprings)\n",
    "            self.population = copy.deepcopy(offsprings)\n",
    "\n",
    "            self.update_fitness()\n",
    "            self.save_checkpoint()\n",
    "            self.print_stats(g)\n",
    "\n",
    "            if self.terminate():\n",
    "                break\n",
    "\n",
    "            elite_number = int(self.population_size * self.elite_percent)\n",
    "            print(\"en\", elite_number)\n",
    "            for i in range(0, elite_number):\n",
    "                offsprings[i] = self.population[i]  # the wise ones\n",
    "                offsprings[i].age += 1\n",
    "\n",
    "                \n",
    "            # The way to go out from local minima\n",
    "            # If there is no progress, we toss the best individual away\n",
    "            if offsprings[0].age > 20: # revolution!\n",
    "                print(\"Revolution time!\")\n",
    "                index = np.random.randint(0, self.population_size)\n",
    "                offsprings[0] = self.population[index]\n",
    "\n",
    "            for p in range(elite_number, self.population_size):\n",
    "                partner_a, partner_b = self.selection(self.selection_pressure)\n",
    "\n",
    "                child = self.crossover(partner_a, partner_b)\n",
    "                child = self.mutate(child, self.mutation_rate)\n",
    "\n",
    "                offsprings[p] = child\n",
    "\n",
    "        return self.population[2]"
   ]
  },
  {
   "cell_type": "code",
   "execution_count": null,
   "metadata": {},
   "outputs": [],
   "source": [
    "class Breeder(Breeder):\n",
    "    def terminate(self):\n",
    "        return self.population[0].fitness >= self.target_fitness\n",
    "\n",
    "    def print_stats(self, generation):\n",
    "        average_fitness = sum(agent.fitness for agent in self.population) / self.population_size\n",
    "\n",
    "        print(\"Gen:\", generation,\n",
    "              \", Unadjusted max fitness:\", self.population[0].unadjusted_fitness,\n",
    "              \", Max fitness:\", self.population[0].fitness,\n",
    "              \", Min fitness:\", self.population[-1].fitness,\n",
    "              \", Age:\", self.population[0].age,\n",
    "              \", Mean fitness:\", average_fitness)"
   ]
  }
 ],
 "metadata": {
  "kernelspec": {
   "display_name": "Python 3",
   "language": "python",
   "name": "python3"
  },
  "language_info": {
   "codemirror_mode": {
    "name": "ipython",
    "version": 3
   },
   "file_extension": ".py",
   "mimetype": "text/x-python",
   "name": "python",
   "nbconvert_exporter": "python",
   "pygments_lexer": "ipython3",
   "version": "3.5.2"
  }
 },
 "nbformat": 4,
 "nbformat_minor": 2
}
