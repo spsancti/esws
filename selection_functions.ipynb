{
 "cells": [
  {
   "cell_type": "code",
   "execution_count": null,
   "metadata": {},
   "outputs": [],
   "source": [
    "import random\n",
    "\n",
    "def tournament(population, selection_pressure):\n",
    "    pool_size = int(len(population) * selection_pressure)\n",
    "    tournament_pool = [random.choice(population) for _ in range(0, pool_size)]\n",
    "    tournament_pool = sorted(tournament_pool, key=lambda x: x.fitness, reverse=True)\n",
    "    return tournament_pool[0], tournament_pool[1]\n"
   ]
  }
 ],
 "metadata": {
  "kernelspec": {
   "display_name": "Python 3",
   "language": "python",
   "name": "python3"
  },
  "language_info": {
   "codemirror_mode": {
    "name": "ipython",
    "version": 3
   },
   "file_extension": ".py",
   "mimetype": "text/x-python",
   "name": "python",
   "nbconvert_exporter": "python",
   "pygments_lexer": "ipython3",
   "version": "3.5.2"
  }
 },
 "nbformat": 4,
 "nbformat_minor": 2
}
